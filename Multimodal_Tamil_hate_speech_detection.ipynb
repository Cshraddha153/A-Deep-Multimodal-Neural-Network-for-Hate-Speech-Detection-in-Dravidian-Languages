{
 "cells": [
  {
   "cell_type": "code",
   "execution_count": 2,
   "metadata": {},
   "outputs": [],
   "source": [
    "import torch\n",
    "import torch.nn as nn\n",
    "import torch.optim as optim\n",
    "import numpy as np\n",
    "import pandas as pd\n",
    "from sklearn import preprocessing \n",
    "import os \n",
    "import matplotlib.pyplot as plt\n",
    "%matplotlib inline\n",
    "import IPython.display as ipd\n",
    "import librosa \n",
    "import librosa.display\n",
    "import tensorflow  \n",
    "from tensorflow.keras.utils import to_categorical\n",
    "from sklearn.preprocessing import LabelEncoder \n",
    "from scipy.io import wavfile as wav\n",
    "from sklearn.model_selection import train_test_split\n",
    "import tensorflow as tf\n",
    "from tqdm import tqdm\n",
    "import torch.optim as optim\n",
    "from sklearn.metrics import accuracy_score, precision_score, recall_score, f1_score, confusion_matrix\n",
    "import seaborn as sns\n",
    "from torch.utils.data import DataLoader, TensorDataset"
   ]
  },
  {
   "cell_type": "code",
   "execution_count": 2,
   "metadata": {},
   "outputs": [],
   "source": [
    "# class MultimodalClassifier(nn.Module):\n",
    "#     def __init__(self, text_dim, audio_dim, hidden_dim, output_dim):\n",
    "#         super(MultimodalClassifier, self).__init__()\n",
    "        \n",
    "#         # Text subnetwork (deeper architecture)\n",
    "#         self.text_fc = nn.Sequential(\n",
    "#             nn.Linear(text_dim, hidden_dim),\n",
    "#             nn.ReLU(),\n",
    "#             nn.BatchNorm1d(hidden_dim),\n",
    "#             nn.Dropout(0.1),  \n",
    "#             nn.Linear(hidden_dim, hidden_dim),\n",
    "#             nn.ReLU(),\n",
    "#             nn.BatchNorm1d(hidden_dim),\n",
    "#             nn.Dropout(0.1)\n",
    "#         )\n",
    "        \n",
    "#         # Audio subnetwork (deeper architecture)\n",
    "#         self.audio_fc = nn.Sequential(\n",
    "#             nn.Linear(audio_dim, hidden_dim),\n",
    "#             nn.ReLU(),\n",
    "#             nn.BatchNorm1d(hidden_dim),\n",
    "#             nn.Dropout(0.1),\n",
    "#             nn.Linear(hidden_dim, hidden_dim),\n",
    "#             nn.ReLU(),\n",
    "#             nn.BatchNorm1d(hidden_dim),\n",
    "#             nn.Dropout(0.1)\n",
    "#         )\n",
    "        \n",
    "#         # Fusion and classification (deeper architecture)\n",
    "#         self.fc = nn.Sequential(\n",
    "#             nn.Linear(hidden_dim * 2, hidden_dim * 2),\n",
    "#             nn.ReLU(),\n",
    "#             nn.BatchNorm1d(hidden_dim * 2),\n",
    "#             # nn.Dropout(0.1),\n",
    "#             nn.Linear(hidden_dim * 2, hidden_dim),\n",
    "#             nn.ReLU(),\n",
    "#             nn.BatchNorm1d(hidden_dim),\n",
    "#             nn.Dropout(0.1),\n",
    "#             nn.Linear(hidden_dim, output_dim),\n",
    "#             nn.Softmax(dim=1)  # Use Sigmoid for binary classification\n",
    "#         )\n",
    "    \n",
    "#     def forward(self, text_features, audio_features):\n",
    "#         # Process text and audio features separately\n",
    "#         text_out = self.text_fc(text_features)\n",
    "#         audio_out = self.audio_fc(audio_features)\n",
    "        \n",
    "#         # Concatenate features and pass through fusion layers\n",
    "#         combined = torch.cat((text_out, audio_out), dim=1)\n",
    "#         output = self.fc(combined)\n",
    "#         return output\n"
   ]
  },
  {
   "cell_type": "code",
   "execution_count": 3,
   "metadata": {},
   "outputs": [],
   "source": [
    "train_dir = 'Tamil training data/audio'\n",
    "test_dir = 'Tamil testing data/audio'\n",
    "train_df = pd.read_excel('Tamil training data/TA-AT-train.xlsx')\n",
    "test_df = pd.read_excel('Tamil testing data/TA-AT-test.xlsx') \n",
    "test_df1 = pd.read_csv('Tamil testing data/TA-AT-test.xlsx - Sheet1.csv')\n",
    "test_labels = test_df1['Class Label ']"
   ]
  },
  {
   "cell_type": "code",
   "execution_count": 4,
   "metadata": {},
   "outputs": [
    {
     "data": {
      "image/png": "[encoded data removed]",
      "text/plain": [
       "<Figure size 400x300 with 1 Axes>"
      ]
     },
     "metadata": {},
     "output_type": "display_data"
    }
   ],
   "source": [
    "import matplotlib.pyplot as plt\n",
    "import seaborn as sns\n",
    "\n",
    "# Count the occurrences of each class label\n",
    "label_counts = train_df['Class Label Short'].value_counts()\n",
    "\n",
    "# Plot the class label counts\n",
    "plt.figure(figsize=(4, 3))\n",
    "sns.barplot(x=label_counts.index, y=label_counts.values, palette='viridis')\n",
    "plt.title('Class Label Distribution For Tamil')\n",
    "plt.xlabel('Class Labels')\n",
    "plt.ylabel('Counts')\n",
    "plt.xticks(rotation=45)  # Rotate labels for better readability if necessary\n",
    "plt.show()"
   ]
  },
  {
   "cell_type": "code",
   "execution_count": 5,
   "metadata": {},
   "outputs": [
    {
     "data": {
      "text/html": [
       "<div>\n",
       "<style scoped>\n",
       "    .dataframe tbody tr th:only-of-type {\n",
       "        vertical-align: middle;\n",
       "    }\n",
       "\n",
       "    .dataframe tbody tr th {\n",
       "        vertical-align: top;\n",
       "    }\n",
       "\n",
       "    .dataframe thead th {\n",
       "        text-align: right;\n",
       "    }\n",
       "</style>\n",
       "<table border=\"1\" class=\"dataframe\">\n",
       "  <thead>\n",
       "    <tr style=\"text-align: right;\">\n",
       "      <th></th>\n",
       "      <th>Class Label Short</th>\n",
       "      <th>File Name</th>\n",
       "      <th>Transcript</th>\n",
       "    </tr>\n",
       "  </thead>\n",
       "  <tbody>\n",
       "    <tr>\n",
       "      <th>0</th>\n",
       "      <td>C</td>\n",
       "      <td>H_TA_003_C_M_016_005</td>\n",
       "      <td>உருவத்தை வச்ச ஒருத்தன் கிண்டல் பண்றான் பாருங்க...</td>\n",
       "    </tr>\n",
       "    <tr>\n",
       "      <th>1</th>\n",
       "      <td>C</td>\n",
       "      <td>H_TA_003_C_M_016_004</td>\n",
       "      <td>காமெடி பண்ண சொன்னா ஒருத்தன உருவ கேலி பண்ணிட்டு...</td>\n",
       "    </tr>\n",
       "  </tbody>\n",
       "</table>\n",
       "</div>"
      ],
      "text/plain": [
       "  Class Label Short             File Name  \\\n",
       "0                 C  H_TA_003_C_M_016_005   \n",
       "1                 C  H_TA_003_C_M_016_004   \n",
       "\n",
       "                                          Transcript  \n",
       "0  உருவத்தை வச்ச ஒருத்தன் கிண்டல் பண்றான் பாருங்க...  \n",
       "1  காமெடி பண்ண சொன்னா ஒருத்தன உருவ கேலி பண்ணிட்டு...  "
      ]
     },
     "execution_count": 5,
     "metadata": {},
     "output_type": "execute_result"
    }
   ],
   "source": [
    "train_df.head(2)"
   ]
  },
  {
   "cell_type": "code",
   "execution_count": 11,
   "metadata": {},
   "outputs": [],
   "source": [
    "audio_files = os.listdir(train_dir)\n",
    "# Add a column to check if audio exists\n",
    "train_df[\"Audio Exists\"] = train_df[\"File Name\"].apply(lambda x: f\"{x}.wav\" in audio_files) \n",
    "# Retain only rows where \"Audio Exists\" is True\n",
    "train_df = train_df[train_df[\"Audio Exists\"]]\n",
    "# Optionally, reset the index if needed\n",
    "train_df = train_df.reset_index(drop=True)"
   ]
  },
  {
   "cell_type": "code",
   "execution_count": 12,
   "metadata": {},
   "outputs": [
    {
     "name": "stderr",
     "output_type": "stream",
     "text": [
      "c:\\Users\\nimmi\\anaconda3\\Lib\\site-packages\\huggingface_hub\\file_download.py:1150: FutureWarning: `resume_download` is deprecated and will be removed in version 1.0.0. Downloads always resume when possible. If you want to force a new download, use `force_download=True`.\n",
      "  warnings.warn(\n"
     ]
    }
   ],
   "source": [
    "from transformers import AutoTokenizer, AutoModel\n",
    "tokenizer = AutoTokenizer.from_pretrained(\"FacebookAI/xlm-roberta-base\")\n",
    "model = AutoModel.from_pretrained(\"FacebookAI/xlm-roberta-base\")\n",
    "texts = train_df['Transcript'].tolist()\n",
    "test_text = test_df['Transcript'].tolist()\n",
    "inputs = tokenizer(texts, padding=True, truncation=True, return_tensors=\"pt\", max_length=30)\n",
    "test_input = tokenizer(test_text, padding=True, truncation=True, return_tensors=\"pt\", max_length=30)"
   ]
  },
  {
   "cell_type": "code",
   "execution_count": 13,
   "metadata": {},
   "outputs": [],
   "source": [
    "with torch.no_grad():\n",
    "    text_features = model(**inputs).pooler_output \n",
    "    test_features = model(**test_input).pooler_output  # Shape: (batch_size, text_dim)"
   ]
  },
  {
   "cell_type": "code",
   "execution_count": 14,
   "metadata": {},
   "outputs": [
    {
     "name": "stdout",
     "output_type": "stream",
     "text": [
      "torch.Size([50, 768])\n"
     ]
    }
   ],
   "source": [
    "print(test_features.shape)  #(883, 768)"
   ]
  },
  {
   "cell_type": "code",
   "execution_count": 15,
   "metadata": {},
   "outputs": [],
   "source": [
    "train_df['File Name'] = train_df['File Name'].apply(lambda x: f\"{x}.wav\" if not x.endswith(\".wav\") else x)\n",
    "test_df['File Name'] = test_df['File Name'].apply(lambda x: f\"{x}.wav\" if not x.endswith(\".wav\") else x)"
   ]
  },
  {
   "cell_type": "code",
   "execution_count": 16,
   "metadata": {},
   "outputs": [
    {
     "name": "stdout",
     "output_type": "stream",
     "text": [
      "torch.Size([509, 13])\n",
      "torch.Size([50, 13])\n"
     ]
    },
    {
     "name": "stderr",
     "output_type": "stream",
     "text": [
      "C:\\Users\\nimmi\\AppData\\Local\\Temp\\ipykernel_2904\\2433454030.py:17: UserWarning: Creating a tensor from a list of numpy.ndarrays is extremely slow. Please consider converting the list to a single numpy.ndarray with numpy.array() before converting to a tensor. (Triggered internally at C:\\actions-runner\\_work\\pytorch\\pytorch\\builder\\windows\\pytorch\\torch\\csrc\\utils\\tensor_new.cpp:281.)\n",
      "  audio_features = torch.tensor(audio_features, dtype=torch.float32)\n"
     ]
    }
   ],
   "source": [
    "def extract_audio_features(audio_path):\n",
    "    y, sr = librosa.load(audio_path, sr=None)  # Load audio\n",
    "    mfccs = librosa.feature.mfcc(y=y, sr=sr, n_mfcc=13)  # Extract MFCCs\n",
    "    return np.mean(mfccs.T, axis=0)  # Average over time axis\n",
    "\n",
    "# Extract audio features for all audio files\n",
    "audio_features = []\n",
    "audio_test_features = []\n",
    "for filename in train_df['File Name']:\n",
    "    audio_path = f\"{train_dir}/{filename}\"\n",
    "    audio_features.append(extract_audio_features(audio_path))\n",
    "\n",
    "for filename in test_df['File Name']:\n",
    "    audio_path = f\"{test_dir}/{filename}\"\n",
    "    audio_test_features.append(extract_audio_features(audio_path))\n",
    "\n",
    "audio_features = torch.tensor(audio_features, dtype=torch.float32) \n",
    "audio_test_features = torch.tensor(audio_test_features, dtype=torch.float32)# Shape: (num_samples, audio_dim)\n",
    "print(audio_features.shape) \n",
    "print(audio_test_features.shape)  # Example: (num_samples, 13)\n"
   ]
  },
  {
   "cell_type": "code",
   "execution_count": 17,
   "metadata": {},
   "outputs": [],
   "source": [
    "from sklearn.preprocessing import StandardScaler\n",
    "import torch\n",
    "# Convert to numpy array if needed\n",
    "audio_features_np = audio_features.numpy() \n",
    "audio_test_features_np = audio_test_features.numpy()  # If using PyTorch tensors\n",
    "scaler = StandardScaler()\n",
    "\n",
    "# Fit and transform\n",
    "audio_features_normalized = scaler.fit_transform(audio_features_np)\n",
    "audio_features_normalized = torch.tensor(audio_features_normalized, dtype=torch.float32)\n",
    "# Fit and transform\n",
    "audio_test_features_normalized = scaler.fit_transform(audio_test_features_np)\n",
    "audio_test_features_normalized = torch.tensor(audio_test_features_normalized, dtype=torch.float32)\n",
    "\n",
    "# print(audio_features_normalized)"
   ]
  },
  {
   "cell_type": "code",
   "execution_count": 18,
   "metadata": {},
   "outputs": [
    {
     "name": "stdout",
     "output_type": "stream",
     "text": [
      "torch.Size([509, 781])\n",
      "torch.Size([50, 781])\n"
     ]
    }
   ],
   "source": [
    "# Ensure both feature sets have the same batch size\n",
    "combined_features = torch.cat((text_features, audio_features_normalized), dim=1)\n",
    "combined_test_features = torch.cat((test_features, audio_test_features_normalized), dim=1)  # Shape: (num_samples, text_dim + audio_dim)\n",
    "print(combined_features.shape) \n",
    "print(combined_test_features.shape)"
   ]
  },
  {
   "cell_type": "code",
   "execution_count": 19,
   "metadata": {},
   "outputs": [],
   "source": [
    "# np.save('combined_features.npy', np.array(combined_features))\n",
    "# np.save('combined_test_features', np.array(combined_test_features))\n",
    "\n",
    "# combined_features = np.load('combined_features.npy')\n",
    "# combined_test_features = np.load('combined_test_features.npy')"
   ]
  },
  {
   "cell_type": "code",
   "execution_count": 24,
   "metadata": {},
   "outputs": [],
   "source": [
    "train_labels = train_df['Class Label Short'] \n",
    "classes_list = [\"N\", \"G\", \"P\", \"R\", \"C\"]          #  N==0(not hate)     hate(G, P, R, C)==1,2,3,4\n",
    "train_labels = train_labels.apply(classes_list.index)\n",
    "# test_labels = test_labels.apply(classes_list.index)"
   ]
  },
  {
   "cell_type": "code",
   "execution_count": 109,
   "metadata": {},
   "outputs": [
    {
     "name": "stderr",
     "output_type": "stream",
     "text": [
      "C:\\Users\\nimmi\\AppData\\Local\\Temp\\ipykernel_2904\\761461807.py:2: UserWarning: To copy construct from a tensor, it is recommended to use sourceTensor.clone().detach() or sourceTensor.clone().detach().requires_grad_(True), rather than torch.tensor(sourceTensor).\n",
      "  X_train_tensor = torch.tensor(combined_features, dtype=torch.float32)\n",
      "C:\\Users\\nimmi\\AppData\\Local\\Temp\\ipykernel_2904\\761461807.py:4: UserWarning: To copy construct from a tensor, it is recommended to use sourceTensor.clone().detach() or sourceTensor.clone().detach().requires_grad_(True), rather than torch.tensor(sourceTensor).\n",
      "  X_test_tensor = torch.tensor(combined_test_features, dtype=torch.float32)\n"
     ]
    }
   ],
   "source": [
    "# Convert to torch tensors\n",
    "X_train_tensor = torch.tensor(combined_features, dtype=torch.float32)\n",
    "# X_val_tensor = torch.tensor(X_val, dtype=torch.float32)\n",
    "X_test_tensor = torch.tensor(combined_test_features, dtype=torch.float32)\n",
    "\n",
    "y_train_tensor = torch.tensor(train_labels.to_numpy(), dtype=torch.long)\n",
    "y_test_tensor = torch.tensor(test_labels.to_numpy(), dtype=torch.long)\n",
    "\n",
    "# y_train_tensor = torch.tensor(y_train, dtype=torch.long)\n",
    "# y_val_tensor = torch.tensor(y_val, dtype=torch.long)\n",
    "\n",
    "# Create TensorDatasets\n",
    "train_dataset = TensorDataset(X_train_tensor, y_train_tensor)\n",
    "test_dataset = TensorDataset(X_test_tensor, y_test_tensor)\n",
    "# Create DataLoaders for batching\n",
    "train_loader = DataLoader(train_dataset, batch_size=32, shuffle=True)\n",
    "test_loader = DataLoader(test_dataset, batch_size=32, shuffle=False)"
   ]
  },
  {
   "cell_type": "markdown",
   "metadata": {},
   "source": [
    "MODEL"
   ]
  },
  {
   "cell_type": "code",
   "execution_count": 110,
   "metadata": {},
   "outputs": [],
   "source": [
    "class MultimodalClassifier(nn.Module):\n",
    "    def __init__(self, text_dim, audio_dim, hidden_dim, output_dim):\n",
    "        super(MultimodalClassifier, self).__init__()\n",
    "        \n",
    "        # Text subnetwork (deeper architecture)\n",
    "        self.text_fc = nn.Sequential(\n",
    "            nn.Linear(text_dim, hidden_dim),\n",
    "            nn.ReLU(),\n",
    "            nn.BatchNorm1d(hidden_dim),\n",
    "            nn.Dropout(0.1),  \n",
    "            nn.Linear(hidden_dim, hidden_dim),\n",
    "            nn.ReLU(),\n",
    "            nn.BatchNorm1d(hidden_dim),\n",
    "            nn.Dropout(0.1),\n",
    "            nn.Linear(hidden_dim, hidden_dim),  # Additional layer\n",
    "            nn.ReLU(),\n",
    "            nn.BatchNorm1d(hidden_dim),\n",
    "            nn.Dropout(0.1)\n",
    "        )\n",
    "        \n",
    "        # Audio subnetwork (deeper architecture)\n",
    "        self.audio_fc = nn.Sequential(\n",
    "            nn.Linear(audio_dim, hidden_dim),\n",
    "            nn.ReLU(),\n",
    "            nn.BatchNorm1d(hidden_dim),\n",
    "            nn.Dropout(0.1),\n",
    "            nn.Linear(hidden_dim, hidden_dim),\n",
    "            nn.ReLU(),\n",
    "            nn.BatchNorm1d(hidden_dim),\n",
    "            nn.Dropout(0.1),\n",
    "            nn.Linear(hidden_dim, hidden_dim),  # Additional layer\n",
    "            nn.ReLU(),\n",
    "            nn.BatchNorm1d(hidden_dim),\n",
    "            nn.Dropout(0.1)\n",
    "        )\n",
    "        \n",
    "        # Fusion and classification (deeper architecture)\n",
    "        self.fc = nn.Sequential(\n",
    "            nn.Linear(hidden_dim * 2, hidden_dim * 2),\n",
    "            nn.ReLU(),\n",
    "            nn.BatchNorm1d(hidden_dim * 2),\n",
    "            nn.Linear(hidden_dim * 2, hidden_dim * 2),  # Additional layer\n",
    "            nn.ReLU(),\n",
    "            nn.BatchNorm1d(hidden_dim * 2),\n",
    "            nn.Linear(hidden_dim * 2, hidden_dim),\n",
    "            nn.ReLU(),\n",
    "            nn.BatchNorm1d(hidden_dim),\n",
    "            nn.Dropout(0.1),\n",
    "            nn.Linear(hidden_dim, output_dim),\n",
    "            nn.Softmax(dim=1)  # Use Sigmoid for binary classification\n",
    "        )\n",
    "    \n",
    "    def forward(self, text_features, audio_features):\n",
    "        # Process text and audio features separately\n",
    "        text_out = self.text_fc(text_features)\n",
    "        audio_out = self.audio_fc(audio_features)\n",
    "        \n",
    "        # Concatenate features and pass through fusion layers\n",
    "        combined = torch.cat((text_out, audio_out), dim=1)\n",
    "        output = self.fc(combined)\n",
    "        return output\n"
   ]
  },
  {
   "cell_type": "code",
   "execution_count": 111,
   "metadata": {},
   "outputs": [],
   "source": [
    "# Function to evaluate the model on validation set\n",
    "def evaluate_model(model, val_loader, device):\n",
    "    model.eval()  \n",
    "    all_preds = []\n",
    "    all_labels = []   \n",
    "    with torch.no_grad(): \n",
    "        for inputs, labels in val_loader:\n",
    "            inputs, labels = inputs.to(device), labels.to(device)            \n",
    "            outputs = model(inputs[:, :text_features.shape[1]], inputs[:, text_features.shape[1]:])            \n",
    "            _, preds = torch.max(outputs, 1)       \n",
    "            all_preds.extend(preds.cpu().numpy())\n",
    "            all_labels.extend(labels.cpu().numpy()) \n",
    "    return all_preds, all_labels"
   ]
  },
  {
   "cell_type": "code",
   "execution_count": 112,
   "metadata": {},
   "outputs": [],
   "source": [
    "model = MultimodalClassifier(text_dim=text_features.shape[1], \n",
    "                             audio_dim=audio_features_normalized.shape[1], \n",
    "                             hidden_dim=256, \n",
    "                             output_dim=len(classes_list))\n",
    "                        \n",
    "device = torch.device(\"cuda\" if torch.cuda.is_available() else \"cpu\")\n",
    "model = model.to(device)\n",
    "# Define loss function and optimizer \n",
    "criterion = nn.CrossEntropyLoss()  \n",
    "optimizer = optim.Adam(model.parameters(), lr=5e-5)"
   ]
  },
  {
   "cell_type": "code",
   "execution_count": 121,
   "metadata": {},
   "outputs": [],
   "source": [
    "# Training loop\n",
    "num_epochs = 80\n",
    "for epoch in range(num_epochs):\n",
    "    model.train() \n",
    "    running_loss = 0.0\n",
    "    correct = 0\n",
    "    total = 0\n",
    "    for inputs, labels in train_loader:\n",
    "        inputs, labels = inputs.to(device), labels.to(device)     \n",
    "        optimizer.zero_grad()  # Zero the gradients      \n",
    "        # Forward pass\n",
    "        outputs = model(inputs[:, :text_features.shape[1]], inputs[:, text_features.shape[1]:])      \n",
    "        # Calculate loss and backpropagate\n",
    "        loss = criterion(outputs, labels) \n",
    "        loss.backward()\n",
    "        optimizer.step()      \n",
    "        running_loss += loss.item()      \n",
    "        _, predicted = torch.max(outputs, 1)\n",
    "        total += labels.size(0) \n",
    "        correct += (predicted == labels).sum().item() "
   ]
  },
  {
   "cell_type": "code",
   "execution_count": 122,
   "metadata": {},
   "outputs": [
    {
     "name": "stdout",
     "output_type": "stream",
     "text": [
      "Accuracy: 0.5600\n",
      "Precision: 0.6969\n",
      "Recall: 0.5600\n",
      "F1 Score: 0.5567\n"
     ]
    }
   ],
   "source": [
    "y_pred, y_true = evaluate_model(model, test_loader, device)\n",
    "accuracy = accuracy_score(y_true, y_pred)\n",
    "precision = precision_score(y_true, y_pred, average='macro')\n",
    "recall = recall_score(y_true, y_pred, average='macro')\n",
    "f1 = f1_score(y_true, y_pred, average='macro') \n",
    "print(f\"Accuracy: {accuracy:.4f}\")\n",
    "print(f\"Precision: {precision:.4f}\") \n",
    "print(f\"Recall: {recall:.4f}\")\n",
    "print(f\"F1 Score: {f1:.4f}\") "
   ]
  },
  {
   "cell_type": "code",
   "execution_count": 48,
   "metadata": {},
   "outputs": [
    {
     "name": "stdout",
     "output_type": "stream",
     "text": [
      "              precision    recall  f1-score   support\n",
      "\n",
      "           N       0.60      0.90      0.72        10\n",
      "           G       0.64      0.70      0.67        10\n",
      "           P       0.86      0.60      0.71        10\n",
      "           R       0.80      0.80      0.80        10\n",
      "           C       0.86      0.60      0.71        10\n",
      "\n",
      "    accuracy                           0.72        50\n",
      "   macro avg       0.75      0.72      0.72        50\n",
      "weighted avg       0.75      0.72      0.72        50\n",
      "\n"
     ]
    },
    {
     "data": {
      "image/png": "[encoded data removed]",
      "text/plain": [
       "<Figure size 300x300 with 2 Axes>"
      ]
     },
     "metadata": {},
     "output_type": "display_data"
    }
   ],
   "source": [
    "from sklearn.metrics import classification_report\n",
    "report = classification_report(y_true, y_pred, target_names=[\"N\", \"G\", \"P\", \"R\", \"C\"])\n",
    "print(report)\n",
    "cm = confusion_matrix(y_true, y_pred)\n",
    "plt.figure(figsize=(3, 3))\n",
    "sns.heatmap(cm, annot=True, fmt='d', cmap='Blues', xticklabels=['N', 'G', 'P', 'R', 'C'], yticklabels=['N', 'G', 'P', 'R', 'C'])\n",
    "plt.xlabel('Predicted')\n",
    "plt.ylabel('True')\n",
    "plt.title('Confusion Matrix')\n",
    "plt.show() "
   ]
  },
  {
   "cell_type": "code",
   "execution_count": 130,
   "metadata": {},
   "outputs": [
    {
     "name": "stdout",
     "output_type": "stream",
     "text": [
      "SVM Accuracy: 0.52\n",
      "              precision    recall  f1-score   support\n",
      "\n",
      "           N       0.38      0.90      0.53        10\n",
      "           G       0.75      0.30      0.43        10\n",
      "           P       0.75      0.30      0.43        10\n",
      "           R       0.75      0.60      0.67        10\n",
      "           C       0.50      0.50      0.50        10\n",
      "\n",
      "    accuracy                           0.52        50\n",
      "   macro avg       0.62      0.52      0.51        50\n",
      "weighted avg       0.62      0.52      0.51        50\n",
      "\n"
     ]
    },
    {
     "data": {
      "image/png": "[encoded data removed]",
      "text/plain": [
       "<Figure size 300x300 with 2 Axes>"
      ]
     },
     "metadata": {},
     "output_type": "display_data"
    }
   ],
   "source": [
    "from sklearn.model_selection import train_test_split\n",
    "from sklearn.preprocessing import StandardScaler\n",
    "from sklearn.svm import SVC\n",
    "from sklearn.neighbors import KNeighborsClassifier\n",
    "from sklearn.naive_bayes import GaussianNB\n",
    "\n",
    "\n",
    "# test_labels = test_labels['labels']\n",
    "\n",
    "# Scale features (important for KNN, SVM)\n",
    "scaler = StandardScaler()\n",
    "train_combined_features1 = scaler.fit_transform(combined_features)\n",
    "test_combined_features1 = scaler.transform(combined_test_features)\n",
    "\n",
    "# SVM\n",
    "svm_model = SVC(kernel='rbf', C= 7, gamma= 'auto')\n",
    "svm_model.fit(train_combined_features1, train_labels)\n",
    "y_test_svm = svm_model.predict(test_combined_features1)\n",
    "print(\"SVM Accuracy:\", accuracy_score(test_labels, y_test_svm))\n",
    "report = classification_report(test_labels, y_test_svm, target_names=['N', 'G', 'P', 'R', 'C'])\n",
    "print(report)\n",
    "\n",
    "cm = confusion_matrix(test_labels, y_test_svm)\n",
    "plt.figure(figsize=(3, 3))\n",
    "sns.heatmap(cm, annot=True, fmt='d', cmap='Blues', xticklabels=['N', 'G', 'P', 'R', 'C'], yticklabels=['N', 'G', 'P', 'R', 'C'])\n",
    "plt.xlabel('Predicted')  \n",
    "plt.ylabel('True')\n",
    "plt.title('Confusion Matrix')\n",
    "plt.show() "
   ]
  },
  {
   "cell_type": "code",
   "execution_count": 139,
   "metadata": {},
   "outputs": [
    {
     "name": "stdout",
     "output_type": "stream",
     "text": [
      "Random Forest Accuracy: 0.32\n",
      "              precision    recall  f1-score   support\n",
      "\n",
      "           N       0.23      1.00      0.38        10\n",
      "           G       1.00      0.20      0.33        10\n",
      "           P       0.00      0.00      0.00        10\n",
      "           R       1.00      0.10      0.18        10\n",
      "           C       0.75      0.30      0.43        10\n",
      "\n",
      "    accuracy                           0.32        50\n",
      "   macro avg       0.60      0.32      0.26        50\n",
      "weighted avg       0.60      0.32      0.26        50\n",
      "\n"
     ]
    },
    {
     "name": "stderr",
     "output_type": "stream",
     "text": [
      "c:\\Users\\nimmi\\anaconda3\\Lib\\site-packages\\sklearn\\metrics\\_classification.py:1531: UndefinedMetricWarning: Precision is ill-defined and being set to 0.0 in labels with no predicted samples. Use `zero_division` parameter to control this behavior.\n",
      "  _warn_prf(average, modifier, f\"{metric.capitalize()} is\", len(result))\n",
      "c:\\Users\\nimmi\\anaconda3\\Lib\\site-packages\\sklearn\\metrics\\_classification.py:1531: UndefinedMetricWarning: Precision is ill-defined and being set to 0.0 in labels with no predicted samples. Use `zero_division` parameter to control this behavior.\n",
      "  _warn_prf(average, modifier, f\"{metric.capitalize()} is\", len(result))\n",
      "c:\\Users\\nimmi\\anaconda3\\Lib\\site-packages\\sklearn\\metrics\\_classification.py:1531: UndefinedMetricWarning: Precision is ill-defined and being set to 0.0 in labels with no predicted samples. Use `zero_division` parameter to control this behavior.\n",
      "  _warn_prf(average, modifier, f\"{metric.capitalize()} is\", len(result))\n"
     ]
    },
    {
     "data": {
      "image/png": "[encoded data removed]",
      "text/plain": [
       "<Figure size 300x300 with 2 Axes>"
      ]
     },
     "metadata": {},
     "output_type": "display_data"
    }
   ],
   "source": [
    "from sklearn.ensemble import RandomForestClassifier\n",
    "# Random Forest\n",
    "rf_model = RandomForestClassifier(n_estimators= 250, random_state=100, min_samples_split = 2, min_samples_leaf = 1, criterion = 'gini', max_features = 'sqrt')\n",
    "rf_model.fit(combined_features, train_labels)\n",
    "y_pred_rf = rf_model.predict(combined_test_features)\n",
    "print(\"Random Forest Accuracy:\", accuracy_score(test_labels, y_pred_rf))  \n",
    "report = classification_report(test_labels, y_pred_rf, target_names=['N', 'G', 'P', 'R', 'C'])\n",
    "print(report)\n",
    "\n",
    "cm = confusion_matrix(test_labels, y_pred_rf)\n",
    "plt.figure(figsize=(3, 3))\n",
    "sns.heatmap(cm, annot=True, fmt='d', cmap='Blues', xticklabels=['N', 'G', 'P', 'R', 'C'], yticklabels=['N', 'G', 'P', 'R', 'C'])\n",
    "plt.xlabel('Predicted')  \n",
    "plt.ylabel('True')\n",
    "plt.title('Confusion Matrix')\n",
    "plt.show()"
   ]
  },
  {
   "cell_type": "code",
   "execution_count": 147,
   "metadata": {},
   "outputs": [
    {
     "name": "stdout",
     "output_type": "stream",
     "text": [
      "              precision    recall  f1-score   support\n",
      "\n",
      "           N       0.29      0.80      0.42        10\n",
      "           G       0.67      0.60      0.63        10\n",
      "           P       1.00      0.10      0.18        10\n",
      "           R       0.50      0.40      0.44        10\n",
      "           C       0.75      0.30      0.43        10\n",
      "\n",
      "    accuracy                           0.44        50\n",
      "   macro avg       0.64      0.44      0.42        50\n",
      "weighted avg       0.64      0.44      0.42        50\n",
      "\n"
     ]
    },
    {
     "data": {
      "image/png": "[encoded data removed]",
      "text/plain": [
       "<Figure size 300x300 with 2 Axes>"
      ]
     },
     "metadata": {},
     "output_type": "display_data"
    }
   ],
   "source": [
    "# KNN\n",
    "knn_model = KNeighborsClassifier(n_neighbors=3, weights = 'uniform', algorithm = 'kd_tree', leaf_size = 2, p=2, metric='minkowski')\n",
    "knn_model.fit(combined_features, train_labels)\n",
    "y_pred_knn = knn_model.predict(combined_test_features)\n",
    "report = classification_report(test_labels, y_pred_knn, target_names=['N', 'G', 'P', 'R', 'C'])\n",
    "print(report) \n",
    "\n",
    "cm = confusion_matrix(test_labels, y_pred_knn)\n",
    "plt.figure(figsize=(3, 3))\n",
    "sns.heatmap(cm, annot=True, fmt='d', cmap='Blues', xticklabels=['N', 'G', 'P', 'R', 'C'], yticklabels=['N', 'G', 'P', 'R', 'C'])\n",
    "plt.xlabel('Predicted')  \n",
    "plt.ylabel('True')\n",
    "plt.title('Confusion Matrix')\n",
    "plt.show()"
   ]
  },
  {
   "cell_type": "code",
   "execution_count": 35,
   "metadata": {},
   "outputs": [
    {
     "name": "stdout",
     "output_type": "stream",
     "text": [
      "              precision    recall  f1-score   support\n",
      "\n",
      "           N       0.14      0.10      0.12        10\n",
      "           G       1.00      0.20      0.33        10\n",
      "           P       0.50      0.50      0.50        10\n",
      "           R       0.50      0.70      0.58        10\n",
      "           C       0.35      0.60      0.44        10\n",
      "\n",
      "    accuracy                           0.42        50\n",
      "   macro avg       0.50      0.42      0.40        50\n",
      "weighted avg       0.50      0.42      0.40        50\n",
      "\n"
     ]
    },
    {
     "data": {
      "image/png": "[encoded data removed]",
      "text/plain": [
       "<Figure size 300x300 with 2 Axes>"
      ]
     },
     "metadata": {},
     "output_type": "display_data"
    }
   ],
   "source": [
    "# Naive Bayes (not ideal for embeddings)\n",
    "nb_model = GaussianNB()\n",
    "nb_model.fit(combined_features, train_labels)\n",
    "y_pred_nb = nb_model.predict(combined_test_features)\n",
    "report = classification_report(test_labels, y_pred_nb, target_names=['N', 'G', 'P', 'R', 'C'])\n",
    "print(report)\n",
    "\n",
    "cm = confusion_matrix(test_labels, y_pred_nb)\n",
    "plt.figure(figsize=(3, 3))\n",
    "sns.heatmap(cm, annot=True, fmt='d', cmap='Blues', xticklabels=['N', 'G', 'P', 'R', 'C'], yticklabels=['N', 'G', 'P', 'R', 'C'])\n",
    "plt.xlabel('Predicted')  \n",
    "plt.ylabel('True')\n",
    "plt.title('Confusion Matrix')\n",
    "plt.show()"
   ]
  },
  {
   "cell_type": "code",
   "execution_count": 149,
   "metadata": {},
   "outputs": [
    {
     "name": "stdout",
     "output_type": "stream",
     "text": [
      "              precision    recall  f1-score   support\n",
      "\n",
      "           N       0.23      0.90      0.36        10\n",
      "           G       0.00      0.00      0.00        10\n",
      "           P       0.67      0.20      0.31        10\n",
      "           R       0.60      0.30      0.40        10\n",
      "           C       0.00      0.00      0.00        10\n",
      "\n",
      "    accuracy                           0.28        50\n",
      "   macro avg       0.30      0.28      0.21        50\n",
      "weighted avg       0.30      0.28      0.21        50\n",
      "\n"
     ]
    },
    {
     "name": "stderr",
     "output_type": "stream",
     "text": [
      "c:\\Users\\nimmi\\anaconda3\\Lib\\site-packages\\sklearn\\metrics\\_classification.py:1531: UndefinedMetricWarning: Precision is ill-defined and being set to 0.0 in labels with no predicted samples. Use `zero_division` parameter to control this behavior.\n",
      "  _warn_prf(average, modifier, f\"{metric.capitalize()} is\", len(result))\n",
      "c:\\Users\\nimmi\\anaconda3\\Lib\\site-packages\\sklearn\\metrics\\_classification.py:1531: UndefinedMetricWarning: Precision is ill-defined and being set to 0.0 in labels with no predicted samples. Use `zero_division` parameter to control this behavior.\n",
      "  _warn_prf(average, modifier, f\"{metric.capitalize()} is\", len(result))\n",
      "c:\\Users\\nimmi\\anaconda3\\Lib\\site-packages\\sklearn\\metrics\\_classification.py:1531: UndefinedMetricWarning: Precision is ill-defined and being set to 0.0 in labels with no predicted samples. Use `zero_division` parameter to control this behavior.\n",
      "  _warn_prf(average, modifier, f\"{metric.capitalize()} is\", len(result))\n"
     ]
    },
    {
     "data": {
      "image/png": "[encoded data removed]",
      "text/plain": [
       "<Figure size 300x300 with 2 Axes>"
      ]
     },
     "metadata": {},
     "output_type": "display_data"
    }
   ],
   "source": [
    "from sklearn.linear_model import LogisticRegression\n",
    "\n",
    "# Initialize the Logistic Regression model\n",
    "lr_model = LogisticRegression(max_iter=600)\n",
    "\n",
    "# Train the model\n",
    "lr_model.fit(combined_features, train_labels)\n",
    "\n",
    "# Predict using the test data\n",
    "y_pred_lr = lr_model.predict(combined_test_features)\n",
    "\n",
    "# Generate the classification report\n",
    "report = classification_report(test_labels, y_pred_lr, target_names=['N', 'G', 'P', 'R', 'C'])\n",
    "print(report)\n",
    "\n",
    "# Confusion matrix\n",
    "cm = confusion_matrix(test_labels, y_pred_lr)\n",
    "\n",
    "# Plot the confusion matrix\n",
    "plt.figure(figsize=(3, 3))\n",
    "sns.heatmap(cm, annot=True, fmt='d', cmap='Blues', xticklabels=['N', 'G', 'P', 'R', 'C'], yticklabels=['N', 'G', 'P', 'R', 'C'])\n",
    "plt.xlabel('Predicted')  \n",
    "plt.ylabel('True')\n",
    "plt.title('Confusion Matrix')\n",
    "plt.show() "
   ]
  }
 ],
 "metadata": {
  "kernelspec": {
   "display_name": "base",
   "language": "python",
   "name": "python3"
  },
  "language_info": {
   "codemirror_mode": {
    "name": "ipython",
    "version": 3
   },
   "file_extension": ".py",
   "mimetype": "text/x-python",
   "name": "python",
   "nbconvert_exporter": "python",
   "pygments_lexer": "ipython3",
   "version": "3.11.5"
  }
 },
 "nbformat": 4,
 "nbformat_minor": 2
}
