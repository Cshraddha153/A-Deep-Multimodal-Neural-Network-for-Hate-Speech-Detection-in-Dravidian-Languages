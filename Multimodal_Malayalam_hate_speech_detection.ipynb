{
 "cells": [
  {
   "cell_type": "code",
   "execution_count": 1,
   "metadata": {},
   "outputs": [],
   "source": [
    "import torch\n",
    "import torch.nn as nn\n",
    "import torch.optim as optim\n",
    "import numpy as np\n",
    "import pandas as pd\n",
    "from sklearn import preprocessing \n",
    "import os \n",
    "import matplotlib.pyplot as plt\n",
    "%matplotlib inline\n",
    "import IPython.display as ipd\n",
    "import librosa \n",
    "import librosa.display\n",
    "import tensorflow \n",
    "from tensorflow.keras.utils import to_categorical\n",
    "from sklearn.preprocessing import LabelEncoder \n",
    "from scipy.io import wavfile as wav\n",
    "from sklearn.model_selection import train_test_split\n",
    "import tensorflow as tf\n",
    "from tqdm import tqdm\n",
    "import torch.optim as optim\n",
    "from sklearn.metrics import accuracy_score, precision_score, recall_score, f1_score, confusion_matrix\n",
    "import seaborn as sns\n",
    "from torch.utils.data import DataLoader, TensorDataset"
   ]
  },
  {
   "cell_type": "code",
   "execution_count": 2,
   "metadata": {},
   "outputs": [],
   "source": [
    "class MultimodalClassifier(nn.Module):\n",
    "    def __init__(self, text_dim, audio_dim, hidden_dim, output_dim):\n",
    "        super(MultimodalClassifier, self).__init__()\n",
    "        \n",
    "        # Text subnetwork (deeper architecture)\n",
    "        self.text_fc = nn.Sequential(\n",
    "            nn.Linear(text_dim, hidden_dim),\n",
    "            nn.ReLU(),\n",
    "            nn.BatchNorm1d(hidden_dim),\n",
    "            nn.Dropout(0.1),  \n",
    "            nn.Linear(hidden_dim, hidden_dim),\n",
    "            nn.ReLU(),\n",
    "            nn.BatchNorm1d(hidden_dim),\n",
    "            nn.Dropout(0.1)\n",
    "        )\n",
    "        \n",
    "        # Audio subnetwork (deeper architecture)\n",
    "        self.audio_fc = nn.Sequential(\n",
    "            nn.Linear(audio_dim, hidden_dim),\n",
    "            nn.ReLU(),\n",
    "            nn.BatchNorm1d(hidden_dim),\n",
    "            nn.Dropout(0.1),\n",
    "            nn.Linear(hidden_dim, hidden_dim),\n",
    "            nn.ReLU(),\n",
    "            nn.BatchNorm1d(hidden_dim),\n",
    "            nn.Dropout(0.1)\n",
    "        )\n",
    "        \n",
    "        # Fusion and classification (deeper architecture)\n",
    "        self.fc = nn.Sequential(\n",
    "            nn.Linear(hidden_dim * 2, hidden_dim * 2),\n",
    "            nn.ReLU(),\n",
    "            nn.BatchNorm1d(hidden_dim * 2),\n",
    "            # nn.Dropout(0.1),\n",
    "            nn.Linear(hidden_dim * 2, hidden_dim),\n",
    "            nn.ReLU(),\n",
    "            nn.BatchNorm1d(hidden_dim),\n",
    "            nn.Dropout(0.1),\n",
    "            nn.Linear(hidden_dim, output_dim),\n",
    "            nn.Softmax(dim=1)  # Use Sigmoid for binary classification\n",
    "        )\n",
    "    \n",
    "    def forward(self, text_features, audio_features):\n",
    "        # Process text and audio features separately\n",
    "        text_out = self.text_fc(text_features)\n",
    "        audio_out = self.audio_fc(audio_features)\n",
    "        \n",
    "        # Concatenate features and pass through fusion layers\n",
    "        combined = torch.cat((text_out, audio_out), dim=1)\n",
    "        output = self.fc(combined)\n",
    "        return output\n"
   ]
  },
  {
   "cell_type": "code",
   "execution_count": 14,
   "metadata": {},
   "outputs": [],
   "source": [
    "train_dir = 'Mal_training_data/audio'\n",
    "test_dir = 'Mal_testing_data/audio'\n",
    "train_df = pd.read_csv('Mal_training_data/ML-AT-train.csv')\n",
    "test_df = pd.read_excel('Mal_testing_data/ML-AT-test.xlsx')\n",
    "test_df1 = pd.read_csv('ML-AT-test.xlsx - Sheet1.csv')\n",
    "test_labels = test_df1['Class Label']"
   ]
  },
  {
   "cell_type": "code",
   "execution_count": 15,
   "metadata": {},
   "outputs": [
    {
     "data": {
      "text/html": [
       "<div>\n",
       "<style scoped>\n",
       "    .dataframe tbody tr th:only-of-type {\n",
       "        vertical-align: middle;\n",
       "    }\n",
       "\n",
       "    .dataframe tbody tr th {\n",
       "        vertical-align: top;\n",
       "    }\n",
       "\n",
       "    .dataframe thead th {\n",
       "        text-align: right;\n",
       "    }\n",
       "</style>\n",
       "<table border=\"1\" class=\"dataframe\">\n",
       "  <thead>\n",
       "    <tr style=\"text-align: right;\">\n",
       "      <th></th>\n",
       "      <th>Class Label Short</th>\n",
       "      <th>File Name</th>\n",
       "      <th>Transcript</th>\n",
       "    </tr>\n",
       "  </thead>\n",
       "  <tbody>\n",
       "    <tr>\n",
       "      <th>0</th>\n",
       "      <td>C</td>\n",
       "      <td>H_ML_001_C_F_044_001</td>\n",
       "      <td>നമസ്കാരം ഒരു ഒരു പരമ ചെറ്റയുടെ കാര്യമാണ് ഞാൻ പ...</td>\n",
       "    </tr>\n",
       "    <tr>\n",
       "      <th>1</th>\n",
       "      <td>C</td>\n",
       "      <td>H_ML_001_C_F_044_002</td>\n",
       "      <td>ആദ്യം തന്നെ അവൻറെ ഐഡിയുടെ പേര് വരെ ഞാൻ ഇതിനകത്...</td>\n",
       "    </tr>\n",
       "    <tr>\n",
       "      <th>2</th>\n",
       "      <td>C</td>\n",
       "      <td>H_ML_001_C_F_044_003</td>\n",
       "      <td>അവൻറെ ആ ചെറ്റയുടെ ആ പരമനാറിയുടെ പേര്</td>\n",
       "    </tr>\n",
       "    <tr>\n",
       "      <th>3</th>\n",
       "      <td>C</td>\n",
       "      <td>H_ML_001_C_F_044_004</td>\n",
       "      <td>അവന്റെ ദുഷിച്ച മനസ്സ് കൊണ്ടുവന്ന് എൻറെ വീഡിയോയ...</td>\n",
       "    </tr>\n",
       "    <tr>\n",
       "      <th>4</th>\n",
       "      <td>C</td>\n",
       "      <td>H_ML_001_C_F_044_005</td>\n",
       "      <td>നിൻറെ ദുഷിപ്പ് എല്ലാം എന്തിനാ എന്റെ നേർക്ക് തീ...</td>\n",
       "    </tr>\n",
       "    <tr>\n",
       "      <th>...</th>\n",
       "      <td>...</td>\n",
       "      <td>...</td>\n",
       "      <td>...</td>\n",
       "    </tr>\n",
       "    <tr>\n",
       "      <th>878</th>\n",
       "      <td>N</td>\n",
       "      <td>NH_ML_002_N_M_014_069</td>\n",
       "      <td>ഒന്നിനെയും കൂടുതൽ ആശ്രയിക്കാതെ ഇരിക്കുക ഒരിക്ക...</td>\n",
       "    </tr>\n",
       "    <tr>\n",
       "      <th>879</th>\n",
       "      <td>N</td>\n",
       "      <td>NH_ML_002_N_M_014_070</td>\n",
       "      <td>പിന്തുടർച്ച ഇല്ലാത്ത പ്രവർത്തികൾക്ക് ഒന്നും യാ...</td>\n",
       "    </tr>\n",
       "    <tr>\n",
       "      <th>880</th>\n",
       "      <td>N</td>\n",
       "      <td>NH_ML_002_N_M_014_071</td>\n",
       "      <td>ഏറ്റവും അടുപ്പമുള്ളവരാണ് അതിസമർഥമായി ചതിക്കുന്...</td>\n",
       "    </tr>\n",
       "    <tr>\n",
       "      <th>881</th>\n",
       "      <td>N</td>\n",
       "      <td>NH_ML_002_N_M_014_072</td>\n",
       "      <td>സാഹചര്യം ഏതായാലും കീടങ്ങള് വേണ്ടയോ എന്ന് തീരുമ...</td>\n",
       "    </tr>\n",
       "    <tr>\n",
       "      <th>882</th>\n",
       "      <td>N</td>\n",
       "      <td>NH_ML_002_N_M_014_073</td>\n",
       "      <td>വെറുപ്പ് ശത്രു രോഗം ഇവയൊന്നുംതന്നെ ചെറുതായി കാ...</td>\n",
       "    </tr>\n",
       "  </tbody>\n",
       "</table>\n",
       "<p>883 rows × 3 columns</p>\n",
       "</div>"
      ],
      "text/plain": [
       "    Class Label Short              File Name  \\\n",
       "0                   C   H_ML_001_C_F_044_001   \n",
       "1                   C   H_ML_001_C_F_044_002   \n",
       "2                   C   H_ML_001_C_F_044_003   \n",
       "3                   C   H_ML_001_C_F_044_004   \n",
       "4                   C   H_ML_001_C_F_044_005   \n",
       "..                ...                    ...   \n",
       "878                 N  NH_ML_002_N_M_014_069   \n",
       "879                 N  NH_ML_002_N_M_014_070   \n",
       "880                 N  NH_ML_002_N_M_014_071   \n",
       "881                 N  NH_ML_002_N_M_014_072   \n",
       "882                 N  NH_ML_002_N_M_014_073   \n",
       "\n",
       "                                            Transcript  \n",
       "0    നമസ്കാരം ഒരു ഒരു പരമ ചെറ്റയുടെ കാര്യമാണ് ഞാൻ പ...  \n",
       "1    ആദ്യം തന്നെ അവൻറെ ഐഡിയുടെ പേര് വരെ ഞാൻ ഇതിനകത്...  \n",
       "2                 അവൻറെ ആ ചെറ്റയുടെ ആ പരമനാറിയുടെ പേര്  \n",
       "3    അവന്റെ ദുഷിച്ച മനസ്സ് കൊണ്ടുവന്ന് എൻറെ വീഡിയോയ...  \n",
       "4    നിൻറെ ദുഷിപ്പ് എല്ലാം എന്തിനാ എന്റെ നേർക്ക് തീ...  \n",
       "..                                                 ...  \n",
       "878  ഒന്നിനെയും കൂടുതൽ ആശ്രയിക്കാതെ ഇരിക്കുക ഒരിക്ക...  \n",
       "879  പിന്തുടർച്ച ഇല്ലാത്ത പ്രവർത്തികൾക്ക് ഒന്നും യാ...  \n",
       "880  ഏറ്റവും അടുപ്പമുള്ളവരാണ് അതിസമർഥമായി ചതിക്കുന്...  \n",
       "881  സാഹചര്യം ഏതായാലും കീടങ്ങള് വേണ്ടയോ എന്ന് തീരുമ...  \n",
       "882  വെറുപ്പ് ശത്രു രോഗം ഇവയൊന്നുംതന്നെ ചെറുതായി കാ...  \n",
       "\n",
       "[883 rows x 3 columns]"
      ]
     },
     "execution_count": 15,
     "metadata": {},
     "output_type": "execute_result"
    }
   ],
   "source": [
    "train_df"
   ]
  },
  {
   "cell_type": "code",
   "execution_count": 16,
   "metadata": {},
   "outputs": [
    {
     "data": {
      "image/png": "[encoded data removed]",
      "text/plain": [
       "<Figure size 400x300 with 1 Axes>"
      ]
     },
     "metadata": {},
     "output_type": "display_data"
    }
   ],
   "source": [
    "import matplotlib.pyplot as plt\n",
    "import seaborn as sns\n",
    "\n",
    "# Count the occurrences of each class label\n",
    "label_counts = train_df['Class Label Short'].value_counts()\n",
    "\n",
    "# Plot the class label counts\n",
    "plt.figure(figsize=(4, 3))\n",
    "sns.barplot(x=label_counts.index, y=label_counts.values, palette='viridis')\n",
    "plt.title('Class Label Distribution For Malayalam')\n",
    "plt.xlabel('Class Labels')\n",
    "plt.ylabel('Counts')\n",
    "plt.xticks(rotation=45)  # Rotate labels for better readability if necessary\n",
    "plt.show()"
   ]
  },
  {
   "cell_type": "code",
   "execution_count": 17,
   "metadata": {},
   "outputs": [
    {
     "name": "stderr",
     "output_type": "stream",
     "text": [
      "c:\\Users\\nimmi\\anaconda3\\Lib\\site-packages\\huggingface_hub\\file_download.py:1150: FutureWarning: `resume_download` is deprecated and will be removed in version 1.0.0. Downloads always resume when possible. If you want to force a new download, use `force_download=True`.\n",
      "  warnings.warn(\n"
     ]
    }
   ],
   "source": [
    "from transformers import AutoTokenizer, AutoModel\n",
    "tokenizer = AutoTokenizer.from_pretrained(\"FacebookAI/xlm-roberta-base\")\n",
    "model = AutoModel.from_pretrained(\"FacebookAI/xlm-roberta-base\")\n",
    "texts = train_df['Transcript'].tolist()\n",
    "test_text = test_df['Transcript'].tolist()\n",
    "inputs = tokenizer(texts, padding=True, truncation=True, return_tensors=\"pt\", max_length=30)\n",
    "test_input = tokenizer(test_text, padding=True, truncation=True, return_tensors=\"pt\", max_length=30)"
   ]
  },
  {
   "cell_type": "code",
   "execution_count": 18,
   "metadata": {},
   "outputs": [],
   "source": [
    "with torch.no_grad():\n",
    "    text_features = model(**inputs).pooler_output \n",
    "    test_features = model(**test_input).pooler_output  # Shape: (batch_size, text_dim)"
   ]
  },
  {
   "cell_type": "code",
   "execution_count": 19,
   "metadata": {},
   "outputs": [
    {
     "name": "stdout",
     "output_type": "stream",
     "text": [
      "torch.Size([50, 768])\n"
     ]
    }
   ],
   "source": [
    "print(test_features.shape)  #(883, 768)"
   ]
  },
  {
   "cell_type": "code",
   "execution_count": 20,
   "metadata": {},
   "outputs": [],
   "source": [
    "train_df['File Name'] = train_df['File Name'].apply(lambda x: f\"{x}.wav\" if not x.endswith(\".wav\") else x)\n",
    "test_df['File Name'] = test_df['File Name'].apply(lambda x: f\"{x}.wav\" if not x.endswith(\".wav\") else x)"
   ]
  },
  {
   "cell_type": "code",
   "execution_count": 21,
   "metadata": {},
   "outputs": [
    {
     "name": "stdout",
     "output_type": "stream",
     "text": [
      "torch.Size([883, 13])\n",
      "torch.Size([50, 13])\n"
     ]
    },
    {
     "name": "stderr",
     "output_type": "stream",
     "text": [
      "C:\\Users\\nimmi\\AppData\\Local\\Temp\\ipykernel_29684\\2433454030.py:17: UserWarning: Creating a tensor from a list of numpy.ndarrays is extremely slow. Please consider converting the list to a single numpy.ndarray with numpy.array() before converting to a tensor. (Triggered internally at C:\\actions-runner\\_work\\pytorch\\pytorch\\builder\\windows\\pytorch\\torch\\csrc\\utils\\tensor_new.cpp:281.)\n",
      "  audio_features = torch.tensor(audio_features, dtype=torch.float32)\n"
     ]
    }
   ],
   "source": [
    "def extract_audio_features(audio_path):\n",
    "    y, sr = librosa.load(audio_path, sr=None)  # Load audio\n",
    "    mfccs = librosa.feature.mfcc(y=y, sr=sr, n_mfcc=13)  # Extract MFCCs\n",
    "    return np.mean(mfccs.T, axis=0)  # Average over time axis\n",
    "\n",
    "# Extract audio features for all audio files\n",
    "audio_features = []\n",
    "audio_test_features = []\n",
    "for filename in train_df['File Name']:\n",
    "    audio_path = f\"{train_dir}/{filename}\"\n",
    "    audio_features.append(extract_audio_features(audio_path))\n",
    "\n",
    "for filename in test_df['File Name']:\n",
    "    audio_path = f\"{test_dir}/{filename}\"\n",
    "    audio_test_features.append(extract_audio_features(audio_path))\n",
    "\n",
    "audio_features = torch.tensor(audio_features, dtype=torch.float32) \n",
    "audio_test_features = torch.tensor(audio_test_features, dtype=torch.float32)# Shape: (num_samples, audio_dim)\n",
    "print(audio_features.shape) \n",
    "print(audio_test_features.shape)  # Example: (num_samples, 13)\n"
   ]
  },
  {
   "cell_type": "code",
   "execution_count": 22,
   "metadata": {},
   "outputs": [],
   "source": [
    "from sklearn.preprocessing import StandardScaler\n",
    "import torch\n",
    "# Convert to numpy array if needed\n",
    "audio_features_np = audio_features.numpy() \n",
    "audio_test_features_np = audio_test_features.numpy()  # If using PyTorch tensors\n",
    "scaler = StandardScaler()\n",
    "\n",
    "# Fit and transform\n",
    "audio_features_normalized = scaler.fit_transform(audio_features_np)\n",
    "audio_features_normalized = torch.tensor(audio_features_normalized, dtype=torch.float32)\n",
    "# Fit and transform\n",
    "audio_test_features_normalized = scaler.fit_transform(audio_test_features_np)\n",
    "audio_test_features_normalized = torch.tensor(audio_test_features_normalized, dtype=torch.float32)\n",
    "\n",
    "# print(audio_features_normalized)"
   ]
  },
  {
   "cell_type": "code",
   "execution_count": 23,
   "metadata": {},
   "outputs": [
    {
     "name": "stdout",
     "output_type": "stream",
     "text": [
      "torch.Size([883, 781])\n",
      "torch.Size([50, 781])\n"
     ]
    }
   ],
   "source": [
    "# Ensure both feature sets have the same batch size\n",
    "combined_features = torch.cat((text_features, audio_features_normalized), dim=1)\n",
    "combined_test_features = torch.cat((test_features, audio_test_features_normalized), dim=1)  # Shape: (num_samples, text_dim + audio_dim)\n",
    "print(combined_features.shape) \n",
    "print(combined_test_features.shape)"
   ]
  },
  {
   "cell_type": "code",
   "execution_count": 25,
   "metadata": {},
   "outputs": [],
   "source": [
    "np.save('combined_features.npy', np.array(combined_features))\n",
    "np.save('combined_test_features', np.array(combined_test_features))\n",
    "\n",
    "# combined_features = np.load('combined_features.npy')\n",
    "# combined_test_features = np.load('combined_test_features.npy')"
   ]
  },
  {
   "cell_type": "code",
   "execution_count": 30,
   "metadata": {},
   "outputs": [],
   "source": [
    "train_labels = train_df['Class Label Short'] \n",
    "classes_list = [\"N\", \"G\", \"P\", \"R\", \"C\"] #  N==0(not hate)     hate(G, P, R, C)==1,2,3,4\n",
    "train_labels = train_labels.apply(classes_list.index)\n",
    "test_labels = test_labels.apply(classes_list.index)"
   ]
  },
  {
   "cell_type": "code",
   "execution_count": 32,
   "metadata": {},
   "outputs": [
    {
     "name": "stderr",
     "output_type": "stream",
     "text": [
      "C:\\Users\\nimmi\\AppData\\Local\\Temp\\ipykernel_29684\\291963583.py:4: UserWarning: To copy construct from a tensor, it is recommended to use sourceTensor.clone().detach() or sourceTensor.clone().detach().requires_grad_(True), rather than torch.tensor(sourceTensor).\n",
      "  X_train_tensor = torch.tensor(combined_features, dtype=torch.float32)\n",
      "C:\\Users\\nimmi\\AppData\\Local\\Temp\\ipykernel_29684\\291963583.py:6: UserWarning: To copy construct from a tensor, it is recommended to use sourceTensor.clone().detach() or sourceTensor.clone().detach().requires_grad_(True), rather than torch.tensor(sourceTensor).\n",
      "  X_test_tensor = torch.tensor(combined_test_features, dtype=torch.float32)\n"
     ]
    }
   ],
   "source": [
    "# X_train, X_val, y_train, y_val = train_test_split(combined_features, train_labels, test_size=0.2, random_state=42)\n",
    "\n",
    "# Convert to torch tensors\n",
    "X_train_tensor = torch.tensor(combined_features, dtype=torch.float32)\n",
    "# X_val_tensor = torch.tensor(X_val, dtype=torch.float32)\n",
    "X_test_tensor = torch.tensor(combined_test_features, dtype=torch.float32)\n",
    "\n",
    "y_train_tensor = torch.tensor(train_labels.to_numpy(), dtype=torch.long)\n",
    "y_test_tensor = torch.tensor(test_labels.to_numpy(), dtype=torch.long)\n",
    "\n",
    "# y_train_tensor = torch.tensor(y_train, dtype=torch.long)\n",
    "# y_val_tensor = torch.tensor(y_val, dtype=torch.long)\n",
    "\n",
    "# Create TensorDatasets\n",
    "train_dataset = TensorDataset(X_train_tensor, y_train_tensor)\n",
    "test_dataset = TensorDataset(X_test_tensor, y_test_tensor)\n",
    "# Create DataLoaders for batching\n",
    "train_loader = DataLoader(train_dataset, batch_size=64, shuffle=True)\n",
    "test_loader = DataLoader(test_dataset, batch_size=64, shuffle=False)\n"
   ]
  },
  {
   "cell_type": "markdown",
   "metadata": {},
   "source": [
    "MODEL"
   ]
  },
  {
   "cell_type": "code",
   "execution_count": 168,
   "metadata": {},
   "outputs": [],
   "source": [
    "model = MultimodalClassifier(text_dim=text_features.shape[1], \n",
    "                             audio_dim=audio_features_normalized.shape[1], \n",
    "                             hidden_dim=256, \n",
    "                             output_dim=len(classes_list))\n",
    "                        \n",
    "# Move model to GPU if available\n",
    "device = torch.device(\"cuda\" if torch.cuda.is_available() else \"cpu\")\n",
    "model = model.to(device)\n",
    "# Define loss function and optimizer \n",
    "criterion = nn.CrossEntropyLoss()  \n",
    "optimizer = optim.Adam(model.parameters(), lr=6e-5)"
   ]
  },
  {
   "cell_type": "markdown",
   "metadata": {},
   "source": [
    "TRAINING "
   ]
  },
  {
   "cell_type": "code",
   "execution_count": 179,
   "metadata": {},
   "outputs": [
    {
     "name": "stdout",
     "output_type": "stream",
     "text": [
      "Epoch 55/55\n",
      "Train Loss: 0.9057, Train Accuracy: 100.00%\n"
     ]
    }
   ],
   "source": [
    "# Training loop\n",
    "num_epochs = 55\n",
    "for epoch in range(num_epochs):\n",
    "    model.train()\n",
    "    running_loss = 0.0\n",
    "    correct = 0\n",
    "    total = 0\n",
    "    for inputs, labels in train_loader:\n",
    "        inputs, labels = inputs.to(device), labels.to(device)     \n",
    "        optimizer.zero_grad()  # Zero the gradients      \n",
    "        # Forward pass\n",
    "        outputs = model(inputs[:, :text_features.shape[1]], inputs[:, text_features.shape[1]:])      \n",
    "        # Calculate loss and backpropagate\n",
    "        loss = criterion(outputs, labels) \n",
    "        loss.backward()\n",
    "        optimizer.step()      \n",
    "        running_loss += loss.item()     \n",
    "        _, predicted = torch.max(outputs, 1)\n",
    "        total += labels.size(0)\n",
    "        correct += (predicted == labels).sum().item()\n",
    "\n",
    "# Print loss and accuracy for both training and validation\n",
    "print(f\"Epoch {epoch+1}/{num_epochs}\")\n",
    "print(f\"Train Loss: {running_loss/len(train_loader):.4f}, Train Accuracy: {100 * correct/total:.2f}%\")"
   ]
  },
  {
   "cell_type": "code",
   "execution_count": 180,
   "metadata": {},
   "outputs": [],
   "source": [
    "# Function to evaluate the model on validation set\n",
    "def evaluate_model(model, val_loader, device):\n",
    "    model.eval()  \n",
    "    all_preds = []\n",
    "    all_labels = []   \n",
    "    with torch.no_grad(): \n",
    "        for inputs, labels in val_loader:\n",
    "            inputs, labels = inputs.to(device), labels.to(device)            \n",
    "            outputs = model(inputs[:, :text_features.shape[1]], inputs[:, text_features.shape[1]:])            \n",
    "            _, preds = torch.max(outputs, 1)       \n",
    "            all_preds.extend(preds.cpu().numpy())\n",
    "            all_labels.extend(labels.cpu().numpy()) \n",
    "    return all_preds, all_labels"
   ]
  },
  {
   "cell_type": "code",
   "execution_count": 134,
   "metadata": {},
   "outputs": [
    {
     "name": "stdout",
     "output_type": "stream",
     "text": [
      "Accuracy: 0.7800\n",
      "Precision: 0.7907\n",
      "Recall: 0.7800\n",
      "F1 Score: 0.7702\n"
     ]
    }
   ],
   "source": [
    "y_pred, y_true = evaluate_model(model, test_loader, device)\n",
    "accuracy = accuracy_score(y_true, y_pred)\n",
    "precision = precision_score(y_true, y_pred, average='macro')\n",
    "recall = recall_score(y_true, y_pred, average='macro')\n",
    "f1 = f1_score(y_true, y_pred, average='macro') \n",
    "print(f\"Accuracy: {accuracy:.4f}\")\n",
    "print(f\"Precision: {precision:.4f}\") \n",
    "print(f\"Recall: {recall:.4f}\")\n",
    "print(f\"F1 Score: {f1:.4f}\") "
   ]
  },
  {
   "cell_type": "code",
   "execution_count": 135,
   "metadata": {},
   "outputs": [
    {
     "name": "stdout",
     "output_type": "stream",
     "text": [
      "              precision    recall  f1-score   support\n",
      "\n",
      "           N       0.91      1.00      0.95        10\n",
      "           G       0.75      0.60      0.67        10\n",
      "           P       0.64      0.90      0.75        10\n",
      "           R       0.83      0.50      0.62        10\n",
      "           C       0.82      0.90      0.86        10\n",
      "\n",
      "    accuracy                           0.78        50\n",
      "   macro avg       0.79      0.78      0.77        50\n",
      "weighted avg       0.79      0.78      0.77        50\n",
      "\n"
     ]
    }
   ],
   "source": [
    "from sklearn.metrics import classification_report\n",
    "report = classification_report(y_true, y_pred, target_names=[\"N\", \"G\", \"P\", \"R\", \"C\"])\n",
    "print(report)"
   ]
  },
  {
   "cell_type": "code",
   "execution_count": null,
   "metadata": {},
   "outputs": [],
   "source": [
    "# Accuracy: 0.7800\n",
    "# Precision: 0.7907\n",
    "# Recall: 0.7800\n",
    "# F1 Score: 0.7702"
   ]
  },
  {
   "cell_type": "code",
   "execution_count": 136,
   "metadata": {},
   "outputs": [
    {
     "name": "stdout",
     "output_type": "stream",
     "text": [
      "              precision    recall  f1-score   support\n",
      "\n",
      "           N       0.91      1.00      0.95        10\n",
      "           G       0.75      0.60      0.67        10\n",
      "           P       0.64      0.90      0.75        10\n",
      "           R       0.83      0.50      0.62        10\n",
      "           C       0.82      0.90      0.86        10\n",
      "\n",
      "    accuracy                           0.78        50\n",
      "   macro avg       0.79      0.78      0.77        50\n",
      "weighted avg       0.79      0.78      0.77        50\n",
      "\n"
     ]
    }
   ],
   "source": [
    "from sklearn.metrics import classification_report\n",
    "report = classification_report(y_true, y_pred, target_names=[\"N\", \"G\", \"P\", \"R\", \"C\"])\n",
    "print(report)"
   ]
  },
  {
   "cell_type": "markdown",
   "metadata": {},
   "source": [
    "CONFUSION MATRIX"
   ]
  },
  {
   "cell_type": "code",
   "execution_count": 137,
   "metadata": {},
   "outputs": [
    {
     "data": {
      "image/png": "[encoded data removed]",
      "text/plain": [
       "<Figure size 300x300 with 2 Axes>"
      ]
     },
     "metadata": {},
     "output_type": "display_data"
    }
   ],
   "source": [
    "cm = confusion_matrix(y_true, y_pred)\n",
    "plt.figure(figsize=(3, 3))\n",
    "sns.heatmap(cm, annot=True, fmt='d', cmap='Blues', xticklabels=['N', 'G', 'P', 'R', 'C'], yticklabels=['N', 'G', 'P', 'R', 'C'])\n",
    "plt.xlabel('Predicted')\n",
    "plt.ylabel('True')\n",
    "plt.title('Confusion Matrix')\n",
    "plt.show() "
   ]
  },
  {
   "cell_type": "markdown",
   "metadata": {},
   "source": [
    "PREDICTION ON TEST DATA"
   ]
  },
  {
   "cell_type": "code",
   "execution_count": 151,
   "metadata": {},
   "outputs": [],
   "source": [
    "# df = pd.DataFrame({    \n",
    "#     'File Name': test_df['File Name'],\n",
    "#     'Transcript': test_df['Transcript'],\n",
    "#     'prediction': predicted_classes\n",
    "# })\n",
    "# df['File Name'] = df['File Name'].str.replace('.wav', '', regex=False) "
   ]
  },
  {
   "cell_type": "code",
   "execution_count": 152,
   "metadata": {},
   "outputs": [],
   "source": [
    "# import csv\n",
    "# df.to_csv(\"MNLP_task1_Malayalam_MultimodalRobF1=8.tsv\", sep=\"\\t\", quoting=csv.QUOTE_NONE)\n",
    "# check_submission = pd.read_csv(\"MNLP_task1_Malayalam_MultimodalRobF1=8.tsv\", sep=\"\\t\")\n",
    "# # check_submission"
   ]
  },
  {
   "cell_type": "code",
   "execution_count": 188,
   "metadata": {},
   "outputs": [
    {
     "name": "stdout",
     "output_type": "stream",
     "text": [
      "SVM Accuracy: 0.56\n",
      "              precision    recall  f1-score   support\n",
      "\n",
      "           N       0.56      0.90      0.69        10\n",
      "           G       0.33      0.20      0.25        10\n",
      "           P       0.46      0.60      0.52        10\n",
      "           R       1.00      0.10      0.18        10\n",
      "           C       0.71      1.00      0.83        10\n",
      "\n",
      "    accuracy                           0.56        50\n",
      "   macro avg       0.61      0.56      0.50        50\n",
      "weighted avg       0.61      0.56      0.50        50\n",
      "\n"
     ]
    },
    {
     "data": {
      "image/png": "[encoded data removed]",
      "text/plain": [
       "<Figure size 300x300 with 2 Axes>"
      ]
     },
     "metadata": {},
     "output_type": "display_data"
    }
   ],
   "source": [
    "from sklearn.model_selection import train_test_split\n",
    "from sklearn.preprocessing import StandardScaler\n",
    "from sklearn.svm import SVC\n",
    "from sklearn.neighbors import KNeighborsClassifier\n",
    "from sklearn.naive_bayes import GaussianNB\n",
    "\n",
    "\n",
    "# test_labels = test_labels['labels']\n",
    "\n",
    "# Scale features (important for KNN, SVM)\n",
    "scaler = StandardScaler()\n",
    "train_combined_features1 = scaler.fit_transform(combined_features)\n",
    "test_combined_features1 = scaler.transform(combined_test_features)\n",
    "\n",
    "# SVM\n",
    "svm_model = SVC(kernel='rbf', C= 16, gamma= 'auto')\n",
    "svm_model.fit(train_combined_features1, train_labels)\n",
    "y_test_svm = svm_model.predict(test_combined_features1)\n",
    "print(\"SVM Accuracy:\", accuracy_score(test_labels, y_test_svm))\n",
    "report = classification_report(test_labels, y_test_svm, target_names=['N', 'G', 'P', 'R', 'C'])\n",
    "print(report)\n",
    "\n",
    "cm = confusion_matrix(test_labels, y_test_svm)\n",
    "plt.figure(figsize=(3, 3))\n",
    "sns.heatmap(cm, annot=True, fmt='d', cmap='Blues', xticklabels=['N', 'G', 'P', 'R', 'C'], yticklabels=['N', 'G', 'P', 'R', 'C'])\n",
    "plt.xlabel('Predicted')  \n",
    "plt.ylabel('True')\n",
    "plt.title('Confusion Matrix')\n",
    "plt.show() "
   ]
  },
  {
   "cell_type": "code",
   "execution_count": 203,
   "metadata": {},
   "outputs": [
    {
     "name": "stdout",
     "output_type": "stream",
     "text": [
      "Random Forest Accuracy: 0.46\n",
      "              precision    recall  f1-score   support\n",
      "\n",
      "           N       0.31      1.00      0.48        10\n",
      "           G       0.00      0.00      0.00        10\n",
      "           P       0.75      0.30      0.43        10\n",
      "           R       0.00      0.00      0.00        10\n",
      "           C       0.71      1.00      0.83        10\n",
      "\n",
      "    accuracy                           0.46        50\n",
      "   macro avg       0.36      0.46      0.35        50\n",
      "weighted avg       0.36      0.46      0.35        50\n",
      "\n"
     ]
    },
    {
     "name": "stderr",
     "output_type": "stream",
     "text": [
      "c:\\Users\\nimmi\\anaconda3\\Lib\\site-packages\\sklearn\\metrics\\_classification.py:1531: UndefinedMetricWarning: Precision is ill-defined and being set to 0.0 in labels with no predicted samples. Use `zero_division` parameter to control this behavior.\n",
      "  _warn_prf(average, modifier, f\"{metric.capitalize()} is\", len(result))\n",
      "c:\\Users\\nimmi\\anaconda3\\Lib\\site-packages\\sklearn\\metrics\\_classification.py:1531: UndefinedMetricWarning: Precision is ill-defined and being set to 0.0 in labels with no predicted samples. Use `zero_division` parameter to control this behavior.\n",
      "  _warn_prf(average, modifier, f\"{metric.capitalize()} is\", len(result))\n",
      "c:\\Users\\nimmi\\anaconda3\\Lib\\site-packages\\sklearn\\metrics\\_classification.py:1531: UndefinedMetricWarning: Precision is ill-defined and being set to 0.0 in labels with no predicted samples. Use `zero_division` parameter to control this behavior.\n",
      "  _warn_prf(average, modifier, f\"{metric.capitalize()} is\", len(result))\n"
     ]
    },
    {
     "data": {
      "image/png": "[encoded data removed]",
      "text/plain": [
       "<Figure size 300x300 with 2 Axes>"
      ]
     },
     "metadata": {},
     "output_type": "display_data"
    }
   ],
   "source": [
    "from sklearn.ensemble import RandomForestClassifier\n",
    "# Random Forest\n",
    "rf_model = RandomForestClassifier(n_estimators= 200, random_state=100, min_samples_split = 4, min_samples_leaf = 1, criterion = 'gini', max_features = 'sqrt')\n",
    "rf_model.fit(combined_features, train_labels)\n",
    "y_pred_rf = rf_model.predict(combined_test_features)\n",
    "print(\"Random Forest Accuracy:\", accuracy_score(test_labels, y_pred_rf))  \n",
    "report = classification_report(test_labels, y_pred_rf, target_names=['N', 'G', 'P', 'R', 'C'])\n",
    "print(report)\n",
    "\n",
    "cm = confusion_matrix(test_labels, y_pred_rf)\n",
    "plt.figure(figsize=(3, 3))\n",
    "sns.heatmap(cm, annot=True, fmt='d', cmap='Blues', xticklabels=['N', 'G', 'P', 'R', 'C'], yticklabels=['N', 'G', 'P', 'R', 'C'])\n",
    "plt.xlabel('Predicted')  \n",
    "plt.ylabel('True')\n",
    "plt.title('Confusion Matrix')\n",
    "plt.show()"
   ]
  },
  {
   "cell_type": "code",
   "execution_count": 218,
   "metadata": {},
   "outputs": [
    {
     "name": "stdout",
     "output_type": "stream",
     "text": [
      "              precision    recall  f1-score   support\n",
      "\n",
      "           N       0.42      1.00      0.59        10\n",
      "           G       0.56      0.50      0.53        10\n",
      "           P       0.50      0.20      0.29        10\n",
      "           R       0.75      0.30      0.43        10\n",
      "           C       0.33      0.30      0.32        10\n",
      "\n",
      "    accuracy                           0.46        50\n",
      "   macro avg       0.51      0.46      0.43        50\n",
      "weighted avg       0.51      0.46      0.43        50\n",
      "\n"
     ]
    },
    {
     "data": {
      "image/png": "[encoded data removed]",
      "text/plain": [
       "<Figure size 300x300 with 2 Axes>"
      ]
     },
     "metadata": {},
     "output_type": "display_data"
    }
   ],
   "source": [
    "# KNN\n",
    "knn_model = KNeighborsClassifier(n_neighbors=3, weights = 'uniform', algorithm = 'kd_tree', leaf_size = 2, p=2, metric='minkowski')\n",
    "knn_model.fit(combined_features, train_labels)\n",
    "y_pred_knn = knn_model.predict(combined_test_features)\n",
    "report = classification_report(test_labels, y_pred_knn, target_names=['N', 'G', 'P', 'R', 'C'])\n",
    "print(report) \n",
    "\n",
    "cm = confusion_matrix(test_labels, y_pred_knn)\n",
    "plt.figure(figsize=(3, 3))\n",
    "sns.heatmap(cm, annot=True, fmt='d', cmap='Blues', xticklabels=['N', 'G', 'P', 'R', 'C'], yticklabels=['N', 'G', 'P', 'R', 'C'])\n",
    "plt.xlabel('Predicted')  \n",
    "plt.ylabel('True')\n",
    "plt.title('Confusion Matrix')\n",
    "plt.show()"
   ]
  },
  {
   "cell_type": "code",
   "execution_count": 220,
   "metadata": {},
   "outputs": [
    {
     "name": "stdout",
     "output_type": "stream",
     "text": [
      "              precision    recall  f1-score   support\n",
      "\n",
      "           N       0.62      0.50      0.56        10\n",
      "           G       0.38      0.30      0.33        10\n",
      "           P       0.33      0.50      0.40        10\n",
      "           R       0.40      0.20      0.27        10\n",
      "           C       0.71      1.00      0.83        10\n",
      "\n",
      "    accuracy                           0.50        50\n",
      "   macro avg       0.49      0.50      0.48        50\n",
      "weighted avg       0.49      0.50      0.48        50\n",
      "\n"
     ]
    },
    {
     "data": {
      "image/png": "[encoded data removed]",
      "text/plain": [
       "<Figure size 300x300 with 2 Axes>"
      ]
     },
     "metadata": {},
     "output_type": "display_data"
    }
   ],
   "source": [
    "# Naive Bayes (not ideal for embeddings)\n",
    "nb_model = GaussianNB()\n",
    "nb_model.fit(combined_features, train_labels)\n",
    "y_pred_nb = nb_model.predict(combined_test_features)\n",
    "report = classification_report(test_labels, y_pred_nb, target_names=['N', 'G', 'P', 'R', 'C'])\n",
    "print(report)\n",
    "\n",
    "cm = confusion_matrix(test_labels, y_pred_nb)\n",
    "plt.figure(figsize=(3, 3))\n",
    "sns.heatmap(cm, annot=True, fmt='d', cmap='Blues', xticklabels=['N', 'G', 'P', 'R', 'C'], yticklabels=['N', 'G', 'P', 'R', 'C'])\n",
    "plt.xlabel('Predicted')  \n",
    "plt.ylabel('True')\n",
    "plt.title('Confusion Matrix')\n",
    "plt.show()"
   ]
  },
  {
   "cell_type": "code",
   "execution_count": 223,
   "metadata": {},
   "outputs": [
    {
     "name": "stdout",
     "output_type": "stream",
     "text": [
      "              precision    recall  f1-score   support\n",
      "\n",
      "           N       0.43      1.00      0.61        10\n",
      "           G       0.22      0.20      0.21        10\n",
      "           P       0.50      0.20      0.29        10\n",
      "           R       0.67      0.20      0.31        10\n",
      "           C       0.45      0.50      0.48        10\n",
      "\n",
      "    accuracy                           0.42        50\n",
      "   macro avg       0.46      0.42      0.38        50\n",
      "weighted avg       0.46      0.42      0.38        50\n",
      "\n"
     ]
    },
    {
     "data": {
      "image/png": "[encoded data removed]",
      "text/plain": [
       "<Figure size 300x300 with 2 Axes>"
      ]
     },
     "metadata": {},
     "output_type": "display_data"
    }
   ],
   "source": [
    "from sklearn.linear_model import LogisticRegression\n",
    "\n",
    "# Initialize the Logistic Regression model\n",
    "lr_model = LogisticRegression(max_iter=500)\n",
    "\n",
    "# Train the model\n",
    "lr_model.fit(combined_features, train_labels)\n",
    "\n",
    "# Predict using the test data\n",
    "y_pred_lr = lr_model.predict(combined_test_features)\n",
    "\n",
    "# Generate the classification report\n",
    "report = classification_report(test_labels, y_pred_lr, target_names=['N', 'G', 'P', 'R', 'C'])\n",
    "print(report)\n",
    "\n",
    "# Confusion matrix\n",
    "cm = confusion_matrix(test_labels, y_pred_lr)\n",
    "\n",
    "# Plot the confusion matrix\n",
    "plt.figure(figsize=(3, 3))\n",
    "sns.heatmap(cm, annot=True, fmt='d', cmap='Blues', xticklabels=['N', 'G', 'P', 'R', 'C'], yticklabels=['N', 'G', 'P', 'R', 'C'])\n",
    "plt.xlabel('Predicted')  \n",
    "plt.ylabel('True')\n",
    "plt.title('Confusion Matrix')\n",
    "plt.show() "
   ]
  },
  {
   "cell_type": "code",
   "execution_count": 224,
   "metadata": {},
   "outputs": [],
   "source": [
    "train_combined_features1 = combined_features.reshape(combined_features.shape[0], 1, combined_features.shape[1])\n",
    "test_combined_features1 = combined_test_features.reshape(combined_test_features.shape[0], 1, combined_test_features.shape[1])"
   ]
  },
  {
   "cell_type": "code",
   "execution_count": 229,
   "metadata": {},
   "outputs": [
    {
     "name": "stdout",
     "output_type": "stream",
     "text": [
      "Epoch 1/15\n"
     ]
    },
    {
     "name": "stderr",
     "output_type": "stream",
     "text": [
      "c:\\Users\\nimmi\\anaconda3\\Lib\\site-packages\\keras\\src\\layers\\rnn\\rnn.py:200: UserWarning: Do not pass an `input_shape`/`input_dim` argument to a layer. When using Sequential models, prefer using an `Input(shape)` object as the first layer in the model instead.\n",
      "  super().__init__(**kwargs)\n"
     ]
    },
    {
     "name": "stdout",
     "output_type": "stream",
     "text": [
      "\u001b[1m111/111\u001b[0m \u001b[32m━━━━━━━━━━━━━━━━━━━━\u001b[0m\u001b[37m\u001b[0m \u001b[1m6s\u001b[0m 8ms/step - accuracy: 0.0891 - loss: -1.3765\n",
      "Epoch 2/15\n",
      "\u001b[1m111/111\u001b[0m \u001b[32m━━━━━━━━━━━━━━━━━━━━\u001b[0m\u001b[37m\u001b[0m \u001b[1m1s\u001b[0m 8ms/step - accuracy: 0.1155 - loss: -4.3773\n",
      "Epoch 3/15\n",
      "\u001b[1m111/111\u001b[0m \u001b[32m━━━━━━━━━━━━━━━━━━━━\u001b[0m\u001b[37m\u001b[0m \u001b[1m1s\u001b[0m 8ms/step - accuracy: 0.0978 - loss: -6.3859\n",
      "Epoch 4/15\n",
      "\u001b[1m111/111\u001b[0m \u001b[32m━━━━━━━━━━━━━━━━━━━━\u001b[0m\u001b[37m\u001b[0m \u001b[1m1s\u001b[0m 7ms/step - accuracy: 0.1055 - loss: -7.6449\n",
      "Epoch 5/15\n",
      "\u001b[1m111/111\u001b[0m \u001b[32m━━━━━━━━━━━━━━━━━━━━\u001b[0m\u001b[37m\u001b[0m \u001b[1m1s\u001b[0m 7ms/step - accuracy: 0.1041 - loss: -6.8215\n",
      "Epoch 6/15\n",
      "\u001b[1m111/111\u001b[0m \u001b[32m━━━━━━━━━━━━━━━━━━━━\u001b[0m\u001b[37m\u001b[0m \u001b[1m1s\u001b[0m 7ms/step - accuracy: 0.1104 - loss: -10.7360\n",
      "Epoch 7/15\n",
      "\u001b[1m111/111\u001b[0m \u001b[32m━━━━━━━━━━━━━━━━━━━━\u001b[0m\u001b[37m\u001b[0m \u001b[1m1s\u001b[0m 7ms/step - accuracy: 0.1209 - loss: -10.2960\n",
      "Epoch 8/15\n",
      "\u001b[1m111/111\u001b[0m \u001b[32m━━━━━━━━━━━━━━━━━━━━\u001b[0m\u001b[37m\u001b[0m \u001b[1m1s\u001b[0m 8ms/step - accuracy: 0.1081 - loss: -11.7121\n",
      "Epoch 9/15\n",
      "\u001b[1m111/111\u001b[0m \u001b[32m━━━━━━━━━━━━━━━━━━━━\u001b[0m\u001b[37m\u001b[0m \u001b[1m1s\u001b[0m 7ms/step - accuracy: 0.1011 - loss: -14.2691\n",
      "Epoch 10/15\n",
      "\u001b[1m111/111\u001b[0m \u001b[32m━━━━━━━━━━━━━━━━━━━━\u001b[0m\u001b[37m\u001b[0m \u001b[1m1s\u001b[0m 8ms/step - accuracy: 0.0784 - loss: -16.1745\n",
      "Epoch 11/15\n",
      "\u001b[1m111/111\u001b[0m \u001b[32m━━━━━━━━━━━━━━━━━━━━\u001b[0m\u001b[37m\u001b[0m \u001b[1m1s\u001b[0m 7ms/step - accuracy: 0.0934 - loss: -15.8588\n",
      "Epoch 12/15\n",
      "\u001b[1m111/111\u001b[0m \u001b[32m━━━━━━━━━━━━━━━━━━━━\u001b[0m\u001b[37m\u001b[0m \u001b[1m1s\u001b[0m 7ms/step - accuracy: 0.0879 - loss: -16.4558\n",
      "Epoch 13/15\n",
      "\u001b[1m111/111\u001b[0m \u001b[32m━━━━━━━━━━━━━━━━━━━━\u001b[0m\u001b[37m\u001b[0m \u001b[1m1s\u001b[0m 7ms/step - accuracy: 0.0880 - loss: -16.2228\n",
      "Epoch 14/15\n",
      "\u001b[1m111/111\u001b[0m \u001b[32m━━━━━━━━━━━━━━━━━━━━\u001b[0m\u001b[37m\u001b[0m \u001b[1m1s\u001b[0m 8ms/step - accuracy: 0.0944 - loss: -19.8586\n",
      "Epoch 15/15\n",
      "\u001b[1m111/111\u001b[0m \u001b[32m━━━━━━━━━━━━━━━━━━━━\u001b[0m\u001b[37m\u001b[0m \u001b[1m1s\u001b[0m 8ms/step - accuracy: 0.1009 - loss: -23.4469\n"
     ]
    },
    {
     "data": {
      "text/plain": [
       "<keras.src.callbacks.history.History at 0x25b81d6e450>"
      ]
     },
     "execution_count": 229,
     "metadata": {},
     "output_type": "execute_result"
    }
   ],
   "source": [
    "import tensorflow as tf\n",
    "from tensorflow.keras.models import Sequential\n",
    "from tensorflow.keras.layers import Dense, LSTM, Dropout\n",
    "\n",
    "# Assuming combined_embeddings is your input data, and labels are the targets\n",
    "# combined_embeddings.shape -> (num_samples, time_steps, feature_dim)\n",
    "# labels.shape -> (num_samples,)\n",
    "\n",
    "model = Sequential([\n",
    "    LSTM(128, return_sequences=True, input_shape=(train_combined_features1.shape[1], train_combined_features1.shape[2])),\n",
    "    Dropout(0.5),\n",
    "    LSTM(64),\n",
    "    Dropout(0.2),\n",
    "    Dense(32, activation='tanh'),  #tanh\n",
    "    Dense(1, activation='sigmoid')  # Use sigmoid for binary classification\n",
    "])\n",
    "\n",
    "\n",
    "# Compile the Model\n",
    "model.compile(optimizer='Adam', loss='binary_crossentropy', metrics=['accuracy'])\n",
    "\n",
    "# Train the Model\n",
    "model.fit(train_combined_features1, train_labels, epochs=15, batch_size=8)"
   ]
  },
  {
   "cell_type": "code",
   "execution_count": 230,
   "metadata": {},
   "outputs": [
    {
     "name": "stdout",
     "output_type": "stream",
     "text": [
      "WARNING:tensorflow:5 out of the last 5 calls to <function TensorFlowTrainer.make_predict_function.<locals>.one_step_on_data_distributed at 0x0000025B81D3BE20> triggered tf.function retracing. Tracing is expensive and the excessive number of tracings could be due to (1) creating @tf.function repeatedly in a loop, (2) passing tensors with different shapes, (3) passing Python objects instead of tensors. For (1), please define your @tf.function outside of the loop. For (2), @tf.function has reduce_retracing=True option that can avoid unnecessary retracing. For (3), please refer to https://www.tensorflow.org/guide/function#controlling_retracing and https://www.tensorflow.org/api_docs/python/tf/function for  more details.\n",
      "\u001b[1m1/2\u001b[0m \u001b[32m━━━━━━━━━━\u001b[0m\u001b[37m━━━━━━━━━━\u001b[0m \u001b[1m0s\u001b[0m 443ms/stepWARNING:tensorflow:6 out of the last 6 calls to <function TensorFlowTrainer.make_predict_function.<locals>.one_step_on_data_distributed at 0x0000025B81D3BE20> triggered tf.function retracing. Tracing is expensive and the excessive number of tracings could be due to (1) creating @tf.function repeatedly in a loop, (2) passing tensors with different shapes, (3) passing Python objects instead of tensors. For (1), please define your @tf.function outside of the loop. For (2), @tf.function has reduce_retracing=True option that can avoid unnecessary retracing. For (3), please refer to https://www.tensorflow.org/guide/function#controlling_retracing and https://www.tensorflow.org/api_docs/python/tf/function for  more details.\n",
      "\u001b[1m2/2\u001b[0m \u001b[32m━━━━━━━━━━━━━━━━━━━━\u001b[0m\u001b[37m\u001b[0m \u001b[1m1s\u001b[0m 406ms/step\n",
      "              precision    recall  f1-score   support\n",
      "\n",
      "           0       0.00      0.00      0.00        10\n",
      "           1       0.20      1.00      0.33        10\n",
      "           2       0.00      0.00      0.00        10\n",
      "           3       0.00      0.00      0.00        10\n",
      "           4       0.00      0.00      0.00        10\n",
      "\n",
      "    accuracy                           0.20        50\n",
      "   macro avg       0.04      0.20      0.07        50\n",
      "weighted avg       0.04      0.20      0.07        50\n",
      "\n"
     ]
    },
    {
     "name": "stderr",
     "output_type": "stream",
     "text": [
      "c:\\Users\\nimmi\\anaconda3\\Lib\\site-packages\\sklearn\\metrics\\_classification.py:1531: UndefinedMetricWarning: Precision is ill-defined and being set to 0.0 in labels with no predicted samples. Use `zero_division` parameter to control this behavior.\n",
      "  _warn_prf(average, modifier, f\"{metric.capitalize()} is\", len(result))\n",
      "c:\\Users\\nimmi\\anaconda3\\Lib\\site-packages\\sklearn\\metrics\\_classification.py:1531: UndefinedMetricWarning: Precision is ill-defined and being set to 0.0 in labels with no predicted samples. Use `zero_division` parameter to control this behavior.\n",
      "  _warn_prf(average, modifier, f\"{metric.capitalize()} is\", len(result))\n",
      "c:\\Users\\nimmi\\anaconda3\\Lib\\site-packages\\sklearn\\metrics\\_classification.py:1531: UndefinedMetricWarning: Precision is ill-defined and being set to 0.0 in labels with no predicted samples. Use `zero_division` parameter to control this behavior.\n",
      "  _warn_prf(average, modifier, f\"{metric.capitalize()} is\", len(result))\n"
     ]
    },
    {
     "data": {
      "image/png": "[encoded data removed]",
      "text/plain": [
       "<Figure size 300x300 with 2 Axes>"
      ]
     },
     "metadata": {},
     "output_type": "display_data"
    }
   ],
   "source": [
    "y_pred_rnn = model.predict(test_combined_features1) \n",
    "y_pred_rnn = (y_pred_rnn > .5).astype(int)  \n",
    "print(classification_report(test_labels, y_pred_rnn))\n",
    "\n",
    "cm = confusion_matrix(test_labels, y_pred_rnn)\n",
    "plt.figure(figsize=(3, 3))\n",
    "sns.heatmap(cm, annot=True, fmt='d', cmap='Blues', xticklabels=['N', 'G', 'P', 'R', 'C'], yticklabels=['N', 'G', 'P', 'R', 'C'])\n",
    "plt.xlabel('Predicted')  \n",
    "plt.ylabel('True')\n",
    "plt.title('Confusion Matrix')\n",
    "plt.show()"
   ]
  },
  {
   "cell_type": "code",
   "execution_count": null,
   "metadata": {},
   "outputs": [],
   "source": []
  }
 ],
 "metadata": {
  "kernelspec": {
   "display_name": "base",
   "language": "python",
   "name": "python3"
  },
  "language_info": {
   "codemirror_mode": {
    "name": "ipython",
    "version": 3
   },
   "file_extension": ".py",
   "mimetype": "text/x-python",
   "name": "python",
   "nbconvert_exporter": "python",
   "pygments_lexer": "ipython3",
   "version": "3.11.5"
  }
 },
 "nbformat": 4,
 "nbformat_minor": 2
}
